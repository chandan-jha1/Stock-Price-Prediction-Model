{
 "cells": [
  {
   "cell_type": "code",
   "execution_count": 1,
   "id": "33293ddb",
   "metadata": {},
   "outputs": [],
   "source": [
    "import math\n",
    "import pandas as pd\n",
    "import pandas_datareader as web\n",
    "import numpy as np\n",
    "from sklearn.preprocessing import MinMaxScaler\n",
    "from keras.models import Sequential\n",
    "from keras.layers import Dense, LSTM\n",
    "import matplotlib.pyplot as plt\n",
    "from forex_python.converter import CurrencyRates\n",
    "plt.style.use('fivethirtyeight')"
   ]
  },
  {
   "cell_type": "code",
   "execution_count": 2,
   "id": "089a1768",
   "metadata": {},
   "outputs": [],
   "source": [
    "import yfinance as yf"
   ]
  },
  {
   "cell_type": "code",
   "execution_count": 3,
   "id": "b28eb584",
   "metadata": {},
   "outputs": [],
   "source": [
    "#c = CurrencyRates()\n",
    "#currency_rate = c.get_rate('USD', 'INR')"
   ]
  },
  {
   "cell_type": "code",
   "execution_count": 7,
   "id": "35b99e4b",
   "metadata": {},
   "outputs": [
    {
     "name": "stdout",
     "output_type": "stream",
     "text": [
      "[*********************100%***********************]  1 of 1 completed\n"
     ]
    }
   ],
   "source": [
    "## getting the stock data\n",
    "df = yf.download(\"WIPRO.NS\", start='2012-01-01', end='2023-04-28')"
   ]
  },
  {
   "cell_type": "code",
   "execution_count": 8,
   "id": "62cc4892",
   "metadata": {},
   "outputs": [
    {
     "data": {
      "text/html": [
       "<div>\n",
       "<style scoped>\n",
       "    .dataframe tbody tr th:only-of-type {\n",
       "        vertical-align: middle;\n",
       "    }\n",
       "\n",
       "    .dataframe tbody tr th {\n",
       "        vertical-align: top;\n",
       "    }\n",
       "\n",
       "    .dataframe thead th {\n",
       "        text-align: right;\n",
       "    }\n",
       "</style>\n",
       "<table border=\"1\" class=\"dataframe\">\n",
       "  <thead>\n",
       "    <tr style=\"text-align: right;\">\n",
       "      <th></th>\n",
       "      <th>Open</th>\n",
       "      <th>High</th>\n",
       "      <th>Low</th>\n",
       "      <th>Close</th>\n",
       "      <th>Adj Close</th>\n",
       "      <th>Volume</th>\n",
       "    </tr>\n",
       "    <tr>\n",
       "      <th>Date</th>\n",
       "      <th></th>\n",
       "      <th></th>\n",
       "      <th></th>\n",
       "      <th></th>\n",
       "      <th></th>\n",
       "      <th></th>\n",
       "    </tr>\n",
       "  </thead>\n",
       "  <tbody>\n",
       "    <tr>\n",
       "      <th>2012-01-02</th>\n",
       "      <td>149.625031</td>\n",
       "      <td>150.712540</td>\n",
       "      <td>148.275040</td>\n",
       "      <td>149.625031</td>\n",
       "      <td>134.066666</td>\n",
       "      <td>1708458</td>\n",
       "    </tr>\n",
       "    <tr>\n",
       "      <th>2012-01-03</th>\n",
       "      <td>150.881287</td>\n",
       "      <td>156.712540</td>\n",
       "      <td>150.506287</td>\n",
       "      <td>156.187546</td>\n",
       "      <td>139.946823</td>\n",
       "      <td>5764897</td>\n",
       "    </tr>\n",
       "    <tr>\n",
       "      <th>2012-01-04</th>\n",
       "      <td>157.012543</td>\n",
       "      <td>159.375046</td>\n",
       "      <td>155.756287</td>\n",
       "      <td>156.843796</td>\n",
       "      <td>140.534836</td>\n",
       "      <td>5075777</td>\n",
       "    </tr>\n",
       "    <tr>\n",
       "      <th>2012-01-05</th>\n",
       "      <td>155.887543</td>\n",
       "      <td>158.587540</td>\n",
       "      <td>154.200043</td>\n",
       "      <td>155.606293</td>\n",
       "      <td>139.426025</td>\n",
       "      <td>3031457</td>\n",
       "    </tr>\n",
       "    <tr>\n",
       "      <th>2012-01-06</th>\n",
       "      <td>154.856293</td>\n",
       "      <td>154.856293</td>\n",
       "      <td>151.162537</td>\n",
       "      <td>152.156281</td>\n",
       "      <td>136.334717</td>\n",
       "      <td>3327636</td>\n",
       "    </tr>\n",
       "    <tr>\n",
       "      <th>...</th>\n",
       "      <td>...</td>\n",
       "      <td>...</td>\n",
       "      <td>...</td>\n",
       "      <td>...</td>\n",
       "      <td>...</td>\n",
       "      <td>...</td>\n",
       "    </tr>\n",
       "    <tr>\n",
       "      <th>2023-04-13</th>\n",
       "      <td>369.899994</td>\n",
       "      <td>369.899994</td>\n",
       "      <td>366.000000</td>\n",
       "      <td>368.299988</td>\n",
       "      <td>368.299988</td>\n",
       "      <td>3362317</td>\n",
       "    </tr>\n",
       "    <tr>\n",
       "      <th>2023-04-17</th>\n",
       "      <td>359.950012</td>\n",
       "      <td>361.950012</td>\n",
       "      <td>352.000000</td>\n",
       "      <td>361.350006</td>\n",
       "      <td>361.350006</td>\n",
       "      <td>6801645</td>\n",
       "    </tr>\n",
       "    <tr>\n",
       "      <th>2023-04-18</th>\n",
       "      <td>363.450012</td>\n",
       "      <td>368.899994</td>\n",
       "      <td>359.250000</td>\n",
       "      <td>367.899994</td>\n",
       "      <td>367.899994</td>\n",
       "      <td>4012449</td>\n",
       "    </tr>\n",
       "    <tr>\n",
       "      <th>2023-04-19</th>\n",
       "      <td>367.899994</td>\n",
       "      <td>367.899994</td>\n",
       "      <td>360.399994</td>\n",
       "      <td>360.799988</td>\n",
       "      <td>360.799988</td>\n",
       "      <td>3737972</td>\n",
       "    </tr>\n",
       "    <tr>\n",
       "      <th>2023-04-20</th>\n",
       "      <td>360.500000</td>\n",
       "      <td>363.700012</td>\n",
       "      <td>359.000000</td>\n",
       "      <td>362.850006</td>\n",
       "      <td>362.850006</td>\n",
       "      <td>2211633</td>\n",
       "    </tr>\n",
       "  </tbody>\n",
       "</table>\n",
       "<p>2786 rows × 6 columns</p>\n",
       "</div>"
      ],
      "text/plain": [
       "                  Open        High         Low       Close   Adj Close  \\\n",
       "Date                                                                     \n",
       "2012-01-02  149.625031  150.712540  148.275040  149.625031  134.066666   \n",
       "2012-01-03  150.881287  156.712540  150.506287  156.187546  139.946823   \n",
       "2012-01-04  157.012543  159.375046  155.756287  156.843796  140.534836   \n",
       "2012-01-05  155.887543  158.587540  154.200043  155.606293  139.426025   \n",
       "2012-01-06  154.856293  154.856293  151.162537  152.156281  136.334717   \n",
       "...                ...         ...         ...         ...         ...   \n",
       "2023-04-13  369.899994  369.899994  366.000000  368.299988  368.299988   \n",
       "2023-04-17  359.950012  361.950012  352.000000  361.350006  361.350006   \n",
       "2023-04-18  363.450012  368.899994  359.250000  367.899994  367.899994   \n",
       "2023-04-19  367.899994  367.899994  360.399994  360.799988  360.799988   \n",
       "2023-04-20  360.500000  363.700012  359.000000  362.850006  362.850006   \n",
       "\n",
       "             Volume  \n",
       "Date                 \n",
       "2012-01-02  1708458  \n",
       "2012-01-03  5764897  \n",
       "2012-01-04  5075777  \n",
       "2012-01-05  3031457  \n",
       "2012-01-06  3327636  \n",
       "...             ...  \n",
       "2023-04-13  3362317  \n",
       "2023-04-17  6801645  \n",
       "2023-04-18  4012449  \n",
       "2023-04-19  3737972  \n",
       "2023-04-20  2211633  \n",
       "\n",
       "[2786 rows x 6 columns]"
      ]
     },
     "execution_count": 8,
     "metadata": {},
     "output_type": "execute_result"
    }
   ],
   "source": [
    "df"
   ]
  },
  {
   "cell_type": "code",
   "execution_count": 9,
   "id": "8b5990f2",
   "metadata": {},
   "outputs": [],
   "source": [
    "#df['Close_INR'] = np.multiply(df['Close'], currency_rate) "
   ]
  },
  {
   "cell_type": "code",
   "execution_count": 10,
   "id": "8add4a6d",
   "metadata": {},
   "outputs": [
    {
     "data": {
      "text/html": [
       "<div>\n",
       "<style scoped>\n",
       "    .dataframe tbody tr th:only-of-type {\n",
       "        vertical-align: middle;\n",
       "    }\n",
       "\n",
       "    .dataframe tbody tr th {\n",
       "        vertical-align: top;\n",
       "    }\n",
       "\n",
       "    .dataframe thead th {\n",
       "        text-align: right;\n",
       "    }\n",
       "</style>\n",
       "<table border=\"1\" class=\"dataframe\">\n",
       "  <thead>\n",
       "    <tr style=\"text-align: right;\">\n",
       "      <th></th>\n",
       "      <th>Open</th>\n",
       "      <th>High</th>\n",
       "      <th>Low</th>\n",
       "      <th>Close</th>\n",
       "      <th>Adj Close</th>\n",
       "      <th>Volume</th>\n",
       "    </tr>\n",
       "    <tr>\n",
       "      <th>Date</th>\n",
       "      <th></th>\n",
       "      <th></th>\n",
       "      <th></th>\n",
       "      <th></th>\n",
       "      <th></th>\n",
       "      <th></th>\n",
       "    </tr>\n",
       "  </thead>\n",
       "  <tbody>\n",
       "    <tr>\n",
       "      <th>2012-01-02</th>\n",
       "      <td>149.625031</td>\n",
       "      <td>150.712540</td>\n",
       "      <td>148.275040</td>\n",
       "      <td>149.625031</td>\n",
       "      <td>134.066666</td>\n",
       "      <td>1708458</td>\n",
       "    </tr>\n",
       "    <tr>\n",
       "      <th>2012-01-03</th>\n",
       "      <td>150.881287</td>\n",
       "      <td>156.712540</td>\n",
       "      <td>150.506287</td>\n",
       "      <td>156.187546</td>\n",
       "      <td>139.946823</td>\n",
       "      <td>5764897</td>\n",
       "    </tr>\n",
       "    <tr>\n",
       "      <th>2012-01-04</th>\n",
       "      <td>157.012543</td>\n",
       "      <td>159.375046</td>\n",
       "      <td>155.756287</td>\n",
       "      <td>156.843796</td>\n",
       "      <td>140.534836</td>\n",
       "      <td>5075777</td>\n",
       "    </tr>\n",
       "    <tr>\n",
       "      <th>2012-01-05</th>\n",
       "      <td>155.887543</td>\n",
       "      <td>158.587540</td>\n",
       "      <td>154.200043</td>\n",
       "      <td>155.606293</td>\n",
       "      <td>139.426025</td>\n",
       "      <td>3031457</td>\n",
       "    </tr>\n",
       "    <tr>\n",
       "      <th>2012-01-06</th>\n",
       "      <td>154.856293</td>\n",
       "      <td>154.856293</td>\n",
       "      <td>151.162537</td>\n",
       "      <td>152.156281</td>\n",
       "      <td>136.334717</td>\n",
       "      <td>3327636</td>\n",
       "    </tr>\n",
       "    <tr>\n",
       "      <th>...</th>\n",
       "      <td>...</td>\n",
       "      <td>...</td>\n",
       "      <td>...</td>\n",
       "      <td>...</td>\n",
       "      <td>...</td>\n",
       "      <td>...</td>\n",
       "    </tr>\n",
       "    <tr>\n",
       "      <th>2023-04-13</th>\n",
       "      <td>369.899994</td>\n",
       "      <td>369.899994</td>\n",
       "      <td>366.000000</td>\n",
       "      <td>368.299988</td>\n",
       "      <td>368.299988</td>\n",
       "      <td>3362317</td>\n",
       "    </tr>\n",
       "    <tr>\n",
       "      <th>2023-04-17</th>\n",
       "      <td>359.950012</td>\n",
       "      <td>361.950012</td>\n",
       "      <td>352.000000</td>\n",
       "      <td>361.350006</td>\n",
       "      <td>361.350006</td>\n",
       "      <td>6801645</td>\n",
       "    </tr>\n",
       "    <tr>\n",
       "      <th>2023-04-18</th>\n",
       "      <td>363.450012</td>\n",
       "      <td>368.899994</td>\n",
       "      <td>359.250000</td>\n",
       "      <td>367.899994</td>\n",
       "      <td>367.899994</td>\n",
       "      <td>4012449</td>\n",
       "    </tr>\n",
       "    <tr>\n",
       "      <th>2023-04-19</th>\n",
       "      <td>367.899994</td>\n",
       "      <td>367.899994</td>\n",
       "      <td>360.399994</td>\n",
       "      <td>360.799988</td>\n",
       "      <td>360.799988</td>\n",
       "      <td>3737972</td>\n",
       "    </tr>\n",
       "    <tr>\n",
       "      <th>2023-04-20</th>\n",
       "      <td>360.500000</td>\n",
       "      <td>363.700012</td>\n",
       "      <td>359.000000</td>\n",
       "      <td>362.850006</td>\n",
       "      <td>362.850006</td>\n",
       "      <td>2211633</td>\n",
       "    </tr>\n",
       "  </tbody>\n",
       "</table>\n",
       "<p>2786 rows × 6 columns</p>\n",
       "</div>"
      ],
      "text/plain": [
       "                  Open        High         Low       Close   Adj Close  \\\n",
       "Date                                                                     \n",
       "2012-01-02  149.625031  150.712540  148.275040  149.625031  134.066666   \n",
       "2012-01-03  150.881287  156.712540  150.506287  156.187546  139.946823   \n",
       "2012-01-04  157.012543  159.375046  155.756287  156.843796  140.534836   \n",
       "2012-01-05  155.887543  158.587540  154.200043  155.606293  139.426025   \n",
       "2012-01-06  154.856293  154.856293  151.162537  152.156281  136.334717   \n",
       "...                ...         ...         ...         ...         ...   \n",
       "2023-04-13  369.899994  369.899994  366.000000  368.299988  368.299988   \n",
       "2023-04-17  359.950012  361.950012  352.000000  361.350006  361.350006   \n",
       "2023-04-18  363.450012  368.899994  359.250000  367.899994  367.899994   \n",
       "2023-04-19  367.899994  367.899994  360.399994  360.799988  360.799988   \n",
       "2023-04-20  360.500000  363.700012  359.000000  362.850006  362.850006   \n",
       "\n",
       "             Volume  \n",
       "Date                 \n",
       "2012-01-02  1708458  \n",
       "2012-01-03  5764897  \n",
       "2012-01-04  5075777  \n",
       "2012-01-05  3031457  \n",
       "2012-01-06  3327636  \n",
       "...             ...  \n",
       "2023-04-13  3362317  \n",
       "2023-04-17  6801645  \n",
       "2023-04-18  4012449  \n",
       "2023-04-19  3737972  \n",
       "2023-04-20  2211633  \n",
       "\n",
       "[2786 rows x 6 columns]"
      ]
     },
     "execution_count": 10,
     "metadata": {},
     "output_type": "execute_result"
    }
   ],
   "source": [
    "df"
   ]
  },
  {
   "cell_type": "code",
   "execution_count": 11,
   "id": "19d5cf51",
   "metadata": {},
   "outputs": [
    {
     "data": {
      "image/png": "[encoded data removed]",
      "text/plain": [
       "<Figure size 1152x576 with 1 Axes>"
      ]
     },
     "metadata": {},
     "output_type": "display_data"
    }
   ],
   "source": [
    "plt.figure(figsize = (16,8))\n",
    "plt.title('Close Price History')\n",
    "plt.plot(df['Close'])\n",
    "plt.xlabel('Date')\n",
    "plt.ylabel('Close Price INR (Rs)', fontsize=18)\n",
    "plt.show()"
   ]
  },
  {
   "cell_type": "code",
   "execution_count": 12,
   "id": "681fc0fa",
   "metadata": {},
   "outputs": [],
   "source": [
    "# Create a dataframe of only one column Close\n",
    "data = df[['Close']]\n",
    "# Convert a dataframe to a numpy array\n",
    "dataset = data.values\n",
    "\n",
    "#Get the number of rows to train the model on\n",
    "# training on 80% of data\n",
    "training_data_len = math.ceil(len(dataset)*0.8)"
   ]
  },
  {
   "cell_type": "code",
   "execution_count": 13,
   "id": "79316d1d",
   "metadata": {},
   "outputs": [
    {
     "name": "stdout",
     "output_type": "stream",
     "text": [
      "2786 2229\n"
     ]
    }
   ],
   "source": [
    "print(len(dataset), training_data_len)"
   ]
  },
  {
   "cell_type": "code",
   "execution_count": 14,
   "id": "08d25f6a",
   "metadata": {},
   "outputs": [
    {
     "data": {
      "text/plain": [
       "array([[0.04630875],\n",
       "       [0.05725278],\n",
       "       [0.05834718],\n",
       "       ...,\n",
       "       [0.4103165 ],\n",
       "       [0.39847613],\n",
       "       [0.40189486]])"
      ]
     },
     "execution_count": 14,
     "metadata": {},
     "output_type": "execute_result"
    }
   ],
   "source": [
    "#Scaling the dataset in range [0, 1]\n",
    "scaler = MinMaxScaler(feature_range=(0,1))\n",
    "scaled_data = scaler.fit_transform(dataset)\n",
    "scaled_data"
   ]
  },
  {
   "cell_type": "code",
   "execution_count": 15,
   "id": "0f7db259",
   "metadata": {},
   "outputs": [
    {
     "data": {
      "text/plain": [
       "(2786, 1)"
      ]
     },
     "execution_count": 15,
     "metadata": {},
     "output_type": "execute_result"
    }
   ],
   "source": [
    "scaled_data.shape"
   ]
  },
  {
   "cell_type": "code",
   "execution_count": 16,
   "id": "ebc2163b",
   "metadata": {},
   "outputs": [],
   "source": [
    "# Create a scaled training dataset\n",
    "train_data = scaled_data[:training_data_len, 0]"
   ]
  },
  {
   "cell_type": "code",
   "execution_count": 17,
   "id": "4257bb13",
   "metadata": {},
   "outputs": [
    {
     "data": {
      "text/plain": [
       "array([0.05834718, 0.05628345, 0.05053001, 0.04765332, 0.0491542 ])"
      ]
     },
     "execution_count": 17,
     "metadata": {},
     "output_type": "execute_result"
    }
   ],
   "source": [
    "train_data[2:7]"
   ]
  },
  {
   "cell_type": "code",
   "execution_count": 18,
   "id": "cc862fed",
   "metadata": {},
   "outputs": [],
   "source": [
    "# Split the data into x_train and y_train\n",
    "x_train, y_train = [], []\n",
    "for i in range(60, training_data_len):\n",
    "    x_train.append(train_data[i-60:i])\n",
    "    y_train.append(train_data[i])\n"
   ]
  },
  {
   "cell_type": "code",
   "execution_count": 19,
   "id": "a8ffa48d",
   "metadata": {},
   "outputs": [
    {
     "data": {
      "text/plain": [
       "(2169, 2229, 2169)"
      ]
     },
     "execution_count": 19,
     "metadata": {},
     "output_type": "execute_result"
    }
   ],
   "source": [
    "len(y_train), training_data_len, len(x_train)"
   ]
  },
  {
   "cell_type": "code",
   "execution_count": 20,
   "id": "fbe7bec9",
   "metadata": {},
   "outputs": [],
   "source": [
    "# Convert the x_train and y_train to np array\n",
    "y_train = np.array(y_train)\n",
    "x_train = np.array(x_train)"
   ]
  },
  {
   "cell_type": "code",
   "execution_count": 21,
   "id": "b667ec63",
   "metadata": {},
   "outputs": [
    {
     "data": {
      "text/plain": [
       "(2169, 60)"
      ]
     },
     "execution_count": 21,
     "metadata": {},
     "output_type": "execute_result"
    }
   ],
   "source": [
    "x_train.shape"
   ]
  },
  {
   "cell_type": "code",
   "execution_count": 22,
   "id": "c4a5a5bf",
   "metadata": {},
   "outputs": [
    {
     "data": {
      "text/plain": [
       "(2169, 60, 1)"
      ]
     },
     "execution_count": 22,
     "metadata": {},
     "output_type": "execute_result"
    }
   ],
   "source": [
    "# Reshape the data in 3D, LSTM needs 3d data\n",
    "x_train = np.reshape(x_train, (x_train.shape[0], x_train.shape[1], 1))\n",
    "x_train.shape"
   ]
  },
  {
   "cell_type": "code",
   "execution_count": 23,
   "id": "937370e8",
   "metadata": {},
   "outputs": [],
   "source": [
    "# Build LSTM model\n",
    "model = Sequential()\n",
    "# model with 50 neurons\n",
    "model.add(LSTM(50, return_sequences= True, input_shape = (x_train.shape[1], 1)))\n",
    "model.add(LSTM(50, return_sequences = False))\n",
    "model.add(Dense(25))\n",
    "model.add(Dense(1))\n"
   ]
  },
  {
   "cell_type": "code",
   "execution_count": 24,
   "id": "41213f0f",
   "metadata": {},
   "outputs": [],
   "source": [
    "# Compile the model\n",
    "model.compile(optimizer = 'adam', loss = 'mean_squared_error')"
   ]
  },
  {
   "cell_type": "code",
   "execution_count": 29,
   "id": "bc1a1b2e",
   "metadata": {},
   "outputs": [
    {
     "name": "stdout",
     "output_type": "stream",
     "text": [
      "2169/2169 [==============================] - 76s 35ms/step - loss: 1.7308e-04\n"
     ]
    },
    {
     "data": {
      "text/plain": [
       "<keras.callbacks.History at 0x23008fe7fd0>"
      ]
     },
     "execution_count": 29,
     "metadata": {},
     "output_type": "execute_result"
    }
   ],
   "source": [
    "# Train the model\n",
    "model.fit(x_train, y_train, batch_size = 1, epochs = 1)"
   ]
  },
  {
   "cell_type": "code",
   "execution_count": 30,
   "id": "5e0b70ae",
   "metadata": {},
   "outputs": [],
   "source": [
    "# Creating a test dataset\n",
    "test_data = scaled_data[training_data_len-60:, 0]\n",
    "x_test = []\n",
    "y_test = dataset[training_data_len:, 0]\n",
    "for i in range(60, len(test_data)):\n",
    "    x_test.append(test_data[i-60:i])\n",
    "    \n"
   ]
  },
  {
   "cell_type": "code",
   "execution_count": 31,
   "id": "bfdb71c4",
   "metadata": {},
   "outputs": [],
   "source": [
    "# Convert the data to numpy array\n",
    "x_test = np.array(x_test)"
   ]
  },
  {
   "cell_type": "code",
   "execution_count": 32,
   "id": "7bb781ea",
   "metadata": {},
   "outputs": [],
   "source": [
    "# Reshape to 3d as LSTM expects 3d\n",
    "x_test = np.reshape(x_test, (x_test.shape[0], x_test.shape[1], 1))"
   ]
  },
  {
   "cell_type": "code",
   "execution_count": 33,
   "id": "531f16d3",
   "metadata": {},
   "outputs": [
    {
     "data": {
      "text/plain": [
       "(557, 60, 1)"
      ]
     },
     "execution_count": 33,
     "metadata": {},
     "output_type": "execute_result"
    }
   ],
   "source": [
    "x_test.shape"
   ]
  },
  {
   "cell_type": "code",
   "execution_count": 34,
   "id": "06a194ab",
   "metadata": {},
   "outputs": [
    {
     "name": "stdout",
     "output_type": "stream",
     "text": [
      "18/18 [==============================] - 2s 25ms/step\n"
     ]
    }
   ],
   "source": [
    "# Get the models predicted price values\n",
    "predictions = model.predict(x_test)"
   ]
  },
  {
   "cell_type": "code",
   "execution_count": 35,
   "id": "6bd0664c",
   "metadata": {},
   "outputs": [],
   "source": [
    "# unscaling the scaled values\n",
    "predictions = scaler.inverse_transform(predictions)"
   ]
  },
  {
   "cell_type": "code",
   "execution_count": 36,
   "id": "50dbefa5",
   "metadata": {},
   "outputs": [
    {
     "data": {
      "text/plain": [
       "557"
      ]
     },
     "execution_count": 36,
     "metadata": {},
     "output_type": "execute_result"
    }
   ],
   "source": [
    "len(predictions)"
   ]
  },
  {
   "cell_type": "code",
   "execution_count": 37,
   "id": "dc55f4c7",
   "metadata": {},
   "outputs": [
    {
     "data": {
      "text/plain": [
       "24.337748940157933"
      ]
     },
     "execution_count": 37,
     "metadata": {},
     "output_type": "execute_result"
    }
   ],
   "source": [
    "# Get the root mean squared values (RMSE)\n",
    "rmse = np.sqrt(np.mean(predictions - y_test)**2)\n",
    "rmse"
   ]
  },
  {
   "cell_type": "code",
   "execution_count": 38,
   "id": "697dad25",
   "metadata": {},
   "outputs": [
    {
     "name": "stderr",
     "output_type": "stream",
     "text": [
      "C:\\Users\\A5039\\AppData\\Local\\Temp\\ipykernel_22364\\3766810210.py:4: SettingWithCopyWarning: \n",
      "A value is trying to be set on a copy of a slice from a DataFrame.\n",
      "Try using .loc[row_indexer,col_indexer] = value instead\n",
      "\n",
      "See the caveats in the documentation: https://pandas.pydata.org/pandas-docs/stable/user_guide/indexing.html#returning-a-view-versus-a-copy\n",
      "  valid['Predictions'] = predictions\n"
     ]
    },
    {
     "data": {
      "image/png": "[encoded data removed]",
      "text/plain": [
       "<Figure size 1152x576 with 1 Axes>"
      ]
     },
     "metadata": {},
     "output_type": "display_data"
    }
   ],
   "source": [
    "# plot the data\n",
    "train = data[:training_data_len]\n",
    "valid = data[training_data_len:]\n",
    "valid['Predictions'] = predictions\n",
    "\n",
    "# Visualize the data\n",
    "plt.figure(figsize = (16, 8))\n",
    "plt.title('Model')\n",
    "plt.xlabel('Date')\n",
    "plt.ylabel('Close Price INR (Rs)', fontsize = 18)\n",
    "plt.plot(train['Close'])\n",
    "plt.plot(valid[['Close', 'Predictions']])\n",
    "plt.legend(['Train', 'Val', 'Predictions'])\n",
    "plt.show()"
   ]
  },
  {
   "cell_type": "code",
   "execution_count": 39,
   "id": "90889052",
   "metadata": {},
   "outputs": [
    {
     "data": {
      "text/html": [
       "<div>\n",
       "<style scoped>\n",
       "    .dataframe tbody tr th:only-of-type {\n",
       "        vertical-align: middle;\n",
       "    }\n",
       "\n",
       "    .dataframe tbody tr th {\n",
       "        vertical-align: top;\n",
       "    }\n",
       "\n",
       "    .dataframe thead th {\n",
       "        text-align: right;\n",
       "    }\n",
       "</style>\n",
       "<table border=\"1\" class=\"dataframe\">\n",
       "  <thead>\n",
       "    <tr style=\"text-align: right;\">\n",
       "      <th></th>\n",
       "      <th>Close</th>\n",
       "      <th>Predictions</th>\n",
       "    </tr>\n",
       "    <tr>\n",
       "      <th>Date</th>\n",
       "      <th></th>\n",
       "      <th></th>\n",
       "    </tr>\n",
       "  </thead>\n",
       "  <tbody>\n",
       "    <tr>\n",
       "      <th>2021-01-19</th>\n",
       "      <td>430.250000</td>\n",
       "      <td>456.784180</td>\n",
       "    </tr>\n",
       "    <tr>\n",
       "      <th>2021-01-20</th>\n",
       "      <td>444.950012</td>\n",
       "      <td>448.518158</td>\n",
       "    </tr>\n",
       "    <tr>\n",
       "      <th>2021-01-21</th>\n",
       "      <td>445.799988</td>\n",
       "      <td>450.144348</td>\n",
       "    </tr>\n",
       "    <tr>\n",
       "      <th>2021-01-22</th>\n",
       "      <td>444.750000</td>\n",
       "      <td>454.374573</td>\n",
       "    </tr>\n",
       "    <tr>\n",
       "      <th>2021-01-25</th>\n",
       "      <td>437.250000</td>\n",
       "      <td>457.734711</td>\n",
       "    </tr>\n",
       "    <tr>\n",
       "      <th>...</th>\n",
       "      <td>...</td>\n",
       "      <td>...</td>\n",
       "    </tr>\n",
       "    <tr>\n",
       "      <th>2023-04-13</th>\n",
       "      <td>368.299988</td>\n",
       "      <td>380.867218</td>\n",
       "    </tr>\n",
       "    <tr>\n",
       "      <th>2023-04-17</th>\n",
       "      <td>361.350006</td>\n",
       "      <td>379.618927</td>\n",
       "    </tr>\n",
       "    <tr>\n",
       "      <th>2023-04-18</th>\n",
       "      <td>367.899994</td>\n",
       "      <td>375.464539</td>\n",
       "    </tr>\n",
       "    <tr>\n",
       "      <th>2023-04-19</th>\n",
       "      <td>360.799988</td>\n",
       "      <td>374.604279</td>\n",
       "    </tr>\n",
       "    <tr>\n",
       "      <th>2023-04-20</th>\n",
       "      <td>362.850006</td>\n",
       "      <td>372.055176</td>\n",
       "    </tr>\n",
       "  </tbody>\n",
       "</table>\n",
       "<p>557 rows × 2 columns</p>\n",
       "</div>"
      ],
      "text/plain": [
       "                 Close  Predictions\n",
       "Date                               \n",
       "2021-01-19  430.250000   456.784180\n",
       "2021-01-20  444.950012   448.518158\n",
       "2021-01-21  445.799988   450.144348\n",
       "2021-01-22  444.750000   454.374573\n",
       "2021-01-25  437.250000   457.734711\n",
       "...                ...          ...\n",
       "2023-04-13  368.299988   380.867218\n",
       "2023-04-17  361.350006   379.618927\n",
       "2023-04-18  367.899994   375.464539\n",
       "2023-04-19  360.799988   374.604279\n",
       "2023-04-20  362.850006   372.055176\n",
       "\n",
       "[557 rows x 2 columns]"
      ]
     },
     "execution_count": 39,
     "metadata": {},
     "output_type": "execute_result"
    }
   ],
   "source": [
    "valid"
   ]
  },
  {
   "cell_type": "code",
   "execution_count": 40,
   "id": "bdc63119",
   "metadata": {},
   "outputs": [],
   "source": [
    "## getting the stock data\n",
    "#wipro = yf.download(\"WIT\", start='2012-01-01', end='2023-04-22')\n"
   ]
  },
  {
   "cell_type": "code",
   "execution_count": 41,
   "id": "21671824",
   "metadata": {},
   "outputs": [],
   "source": [
    "# Filter the Close column\n",
    "df = df[['Close']]\n",
    "# take last 60 days closing price and convert to array\n",
    "last_60_days = df[-60:].values \n",
    "# scale the data to the value between [0,1]\n",
    "last_60_days_scaled = scaler.transform(last_60_days)\n",
    "# create test data\n",
    "x_test = []\n",
    "# append the last 60 days closing price\n",
    "x_test.append(last_60_days_scaled)\n",
    "# convert x_test to numpy array\n",
    "x_test = np.array(x_test)\n",
    "# reshape x_test\n",
    "x_test = np.reshape(x_test, (x_test.shape[0], x_test.shape[1], 1))\n",
    "# Get the predicted value\n",
    "pred_price = model(x_test)\n",
    "# unscale the pred_price \n",
    "pred_price = scaler.inverse_transform(pred_price)"
   ]
  },
  {
   "cell_type": "code",
   "execution_count": 42,
   "id": "94d97feb",
   "metadata": {},
   "outputs": [
    {
     "data": {
      "text/plain": [
       "array([[370.88035205]])"
      ]
     },
     "execution_count": 42,
     "metadata": {},
     "output_type": "execute_result"
    }
   ],
   "source": [
    "pred_price"
   ]
  },
  {
   "cell_type": "code",
   "execution_count": null,
   "id": "6eb2b5fc",
   "metadata": {},
   "outputs": [],
   "source": [
    "c = CurrencyRates()\n",
    "c.get_rate('USD', 'INR')"
   ]
  },
  {
   "cell_type": "code",
   "execution_count": null,
   "id": "4acfc55a",
   "metadata": {},
   "outputs": [],
   "source": []
  }
 ],
 "metadata": {
  "kernelspec": {
   "display_name": "Python 3 (ipykernel)",
   "language": "python",
   "name": "python3"
  },
  "language_info": {
   "codemirror_mode": {
    "name": "ipython",
    "version": 3
   },
   "file_extension": ".py",
   "mimetype": "text/x-python",
   "name": "python",
   "nbconvert_exporter": "python",
   "pygments_lexer": "ipython3",
   "version": "3.9.12"
  }
 },
 "nbformat": 4,
 "nbformat_minor": 5
}
